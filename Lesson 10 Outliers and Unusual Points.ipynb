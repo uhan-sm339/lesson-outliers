{
 "cells": [
  {
   "cell_type": "markdown",
   "id": "2a44db79-68f7-4561-99ea-95fa42c4f823",
   "metadata": {
    "editable": true,
    "slideshow": {
     "slide_type": ""
    },
    "tags": []
   },
   "source": [
    "**SM339 &#x25aa; Applied Statistics &#x25aa; Spring 2024 &#x25aa; Uhan**"
   ]
  },
  {
   "cell_type": "markdown",
   "id": "4e0e962f-b0eb-49ba-a8ec-33275dd5faf3",
   "metadata": {
    "editable": true,
    "slideshow": {
     "slide_type": ""
    },
    "tags": []
   },
   "source": [
    "# Lesson 10. Outliers and Unusual Points"
   ]
  },
  {
   "cell_type": "markdown",
   "id": "54907173-d433-409e-b780-c86a9909af31",
   "metadata": {
    "editable": true,
    "slideshow": {
     "slide_type": ""
    },
    "tags": []
   },
   "source": [
    "_Setup._ Tweak the width and height values below to adjust the size of your plots in this notebook."
   ]
  },
  {
   "cell_type": "code",
   "execution_count": null,
   "id": "c83bbe1e-6323-4d5c-aba2-b67ee7b466ec",
   "metadata": {
    "editable": true,
    "slideshow": {
     "slide_type": ""
    },
    "tags": []
   },
   "outputs": [],
   "source": [
    "options(repr.plot.width=8, repr.plot.height=8)"
   ]
  },
  {
   "cell_type": "markdown",
   "id": "5ca6be7d-c4a9-404a-8d6d-00b0174e6919",
   "metadata": {
    "editable": true,
    "slideshow": {
     "slide_type": ""
    },
    "tags": []
   },
   "source": [
    "## Overview"
   ]
  },
  {
   "cell_type": "markdown",
   "id": "f4c36a72-5910-4a63-8c17-78bbf97d015f",
   "metadata": {
    "editable": true,
    "slideshow": {
     "slide_type": ""
    },
    "tags": []
   },
   "source": [
    "- If one or two \"unusual\" observations are strongly affecting the estimate of the fitted line, we need to know\n",
    "\n",
    "- This is part of assessing the model"
   ]
  },
  {
   "cell_type": "markdown",
   "id": "286c7c11-850b-4aae-a6f0-7bb0b0f37254",
   "metadata": {
    "editable": true,
    "slideshow": {
     "slide_type": ""
    },
    "tags": []
   },
   "source": [
    "## Example 1"
   ]
  },
  {
   "cell_type": "markdown",
   "id": "ef30df40-9d83-4e99-a5a0-3f79a54bacc3",
   "metadata": {
    "editable": true,
    "slideshow": {
     "slide_type": ""
    },
    "tags": []
   },
   "source": [
    "The dataset `PalmBeach` contains data from the US presidential election in 2000.\n",
    "The race was very close, and the votes from Florida ended up determining the outcome.\n",
    "`PalmBeach` contains the number of votes for two candidates in Florida counties."
   ]
  },
  {
   "cell_type": "markdown",
   "id": "87fa5e84-e05b-450f-bad0-ebb90b47a3db",
   "metadata": {
    "editable": true,
    "slideshow": {
     "slide_type": ""
    },
    "tags": []
   },
   "source": [
    "- First, let's load the data:"
   ]
  },
  {
   "cell_type": "code",
   "execution_count": null,
   "id": "6e92baa5-f132-4768-a0d8-53c35507d4f1",
   "metadata": {
    "editable": true,
    "slideshow": {
     "slide_type": ""
    },
    "tags": []
   },
   "outputs": [],
   "source": [
    "library(Stat2Data)\n",
    "data(PalmBeach)\n",
    "head(PalmBeach)"
   ]
  },
  {
   "cell_type": "markdown",
   "id": "0dd5e919-9dd8-4ea3-826a-d0b4697ba02f",
   "metadata": {
    "editable": true,
    "slideshow": {
     "slide_type": ""
    },
    "tags": []
   },
   "source": [
    "- Let's start by plotting the number of votes for candidate George W. Bush (on the x-axis) versus the number of votes for candidate Pat Buchanan (on the y-axis)\n",
    "\n",
    "- Let's also include a fitted line for a simple linear regression model\n",
    "\n",
    "- The code below adds labels to the points in the scatterplot, so we can identify unusual pointsAdd the following code to your plotting code\n",
    "\n",
    "```r\n",
    "text(PalmBeach$Bush, PalmBeach$Buchanan, pos=1)  # pos = 1 means put labels to the bottom of each point\n",
    "```"
   ]
  },
  {
   "cell_type": "code",
   "execution_count": null,
   "id": "fe46b1b1-5ad6-4d8f-92d5-3caab1caa4ef",
   "metadata": {
    "editable": true,
    "slideshow": {
     "slide_type": ""
    },
    "tags": []
   },
   "outputs": [],
   "source": []
  },
  {
   "cell_type": "markdown",
   "id": "ebce1597-3a52-4f45-b582-2dd8d0f756fb",
   "metadata": {
    "editable": true,
    "slideshow": {
     "slide_type": ""
    },
    "tags": []
   },
   "source": [
    "- Which observations appear to be \"unusual\"?"
   ]
  },
  {
   "cell_type": "markdown",
   "id": "8c0ed823-a8dd-4447-bd00-7f67ba5f04b1",
   "metadata": {
    "editable": true,
    "slideshow": {
     "slide_type": ""
    },
    "tags": []
   },
   "source": [
    "_Write your answer here. Double-click to edit._"
   ]
  },
  {
   "cell_type": "markdown",
   "id": "1f046f01-4a2b-4fb7-9f97-bbb0c8a05daa",
   "metadata": {
    "editable": true,
    "slideshow": {
     "slide_type": ""
    },
    "tags": []
   },
   "source": [
    "- We can inspect the unusual observations like this:"
   ]
  },
  {
   "cell_type": "code",
   "execution_count": null,
   "id": "67dc0b0f-e6ac-4762-a2f5-c8947e8447e2",
   "metadata": {
    "editable": true,
    "slideshow": {
     "slide_type": ""
    },
    "tags": []
   },
   "outputs": [],
   "source": []
  },
  {
   "cell_type": "markdown",
   "id": "457e62ad-5629-4611-941f-8d74214406b6",
   "metadata": {
    "editable": true,
    "slideshow": {
     "slide_type": ""
    },
    "tags": []
   },
   "source": [
    "## Three ways to quantify how unusual a point is"
   ]
  },
  {
   "cell_type": "markdown",
   "id": "08b11c58-30c1-40fd-a3d2-077c354b4bbd",
   "metadata": {
    "editable": true,
    "slideshow": {
     "slide_type": ""
    },
    "tags": []
   },
   "source": [
    "### Standardized residual\n",
    "\n",
    "- The __standardized residual__ of observation $i$ is (roughly) $\\dfrac{y_i - \\hat{y}_i}{\\hat{\\sigma}_{\\varepsilon}}$\n",
    "\n",
    "- This expresses the residuals on a common, unitless scale\n",
    "    \n",
    "- Points with large standardized residuals are called __outliers__"
   ]
  },
  {
   "cell_type": "markdown",
   "id": "c71aee18-b2c4-4a62-babf-5507077af8c9",
   "metadata": {
    "editable": true,
    "slideshow": {
     "slide_type": ""
    },
    "tags": []
   },
   "source": [
    "### Leverage\n",
    "\n",
    "- The __leverage__ of observation $i$ is denoted by $h_i$\n",
    "\n",
    "- See STAT2 Chapter 4 for details on how $h_i$ is computed\n",
    "    \n",
    "- A point with high leverage _can_ have a strong effect on the fitted line, especially the slope\n",
    "\n",
    "- In simple linear regression, this means that the point's $x$ value is far from $\\bar{x}$\n",
    "\n",
    "- Points with high leverage are called __leverage points__"
   ]
  },
  {
   "cell_type": "markdown",
   "id": "2b228377-33ff-44aa-a72c-25374189d1ea",
   "metadata": {
    "editable": true,
    "slideshow": {
     "slide_type": ""
    },
    "tags": []
   },
   "source": [
    "### Cook's distance\n",
    "\n",
    "- The __Cook's distance__ of observation $i$ is denoted by $D_i$\n",
    "\n",
    "- See STAT2 Chapter 4 for details on how $D_i$ is computed\n",
    "    \n",
    "- __We are most concerned with a point that has high leverage and is an outlier__\n",
    "\n",
    "- $D_i$ combines the standardized residual and leverage of a point to give an overall summary of its effect on the regression line\n",
    "\n",
    "- Points with large Cook's distance are called __influential points__"
   ]
  },
  {
   "cell_type": "markdown",
   "id": "a6e5fa8e-8762-49d1-b907-03d3e73f1d77",
   "metadata": {
    "editable": true,
    "slideshow": {
     "slide_type": ""
    },
    "tags": []
   },
   "source": [
    "## Rules of thumb for identifying unusual points in simple linear regression"
   ]
  },
  {
   "cell_type": "markdown",
   "id": "e4005646-6d8d-46f8-bb2e-b6d19e474d94",
   "metadata": {
    "editable": true,
    "slideshow": {
     "slide_type": ""
    },
    "tags": []
   },
   "source": [
    "- Remember that $n$ is the number of observations used in the simple linear regression model\n",
    "\n",
    "| Statistic | Moderately unusual | Very unusual |\n",
    "| :- | :- | :- |\n",
    "| Standardized residual | beyond $\\pm 2$ | beyond $\\pm 3$ |\n",
    "| Leverage $h_i$ | $h_i > \\dfrac{4}{n}$ | $h_i > \\dfrac{6}{n}$ |\n",
    "| Cook's distance $D_i$ | $D_i > 0.5$ | $D_i > 1$| "
   ]
  },
  {
   "cell_type": "markdown",
   "id": "ab4889e7-97ac-4ba5-bbee-9f9a2ad5dda3",
   "metadata": {
    "editable": true,
    "slideshow": {
     "slide_type": ""
    },
    "tags": []
   },
   "source": [
    "## Example 2"
   ]
  },
  {
   "cell_type": "markdown",
   "id": "523d0bd1-bed5-4f79-8413-7a276124314f",
   "metadata": {
    "editable": true,
    "slideshow": {
     "slide_type": ""
    },
    "tags": []
   },
   "source": [
    "Run the following code to produce a diagnostic plot that displays standardized residuals, leverage, and Cook's distance for each observation. Use the output to comment on our two unusual points."
   ]
  },
  {
   "cell_type": "code",
   "execution_count": null,
   "id": "6f3d0b64-2312-4ad1-bb6d-3843e01a324e",
   "metadata": {
    "editable": true,
    "slideshow": {
     "slide_type": ""
    },
    "tags": []
   },
   "outputs": [],
   "source": [
    "nrow(PalmBeach)     # n = number of observations in dataset\n",
    "plot(fit, which=5)  # diagnostic plot"
   ]
  },
  {
   "cell_type": "markdown",
   "id": "a87c8661-44d3-4fd6-ba89-32db8433c16b",
   "metadata": {
    "editable": true,
    "slideshow": {
     "slide_type": ""
    },
    "tags": []
   },
   "source": [
    "*Write your answer here. Double-click to edit.*\n",
    "\n",
    "- __Palm Beach (50)__\n",
    "\n",
    "- __Dade (13)__"
   ]
  },
  {
   "cell_type": "markdown",
   "id": "4eeb0130-063e-43ef-9456-4ed2244cbe85",
   "metadata": {
    "editable": true,
    "slideshow": {
     "slide_type": ""
    },
    "tags": []
   },
   "source": [
    "_Note._ We can also look at the following diagnostic plot for a direct comparison of Cook's distance:"
   ]
  },
  {
   "cell_type": "code",
   "execution_count": null,
   "id": "30db0d9d-e2d0-482a-bc88-8a5de2ac9778",
   "metadata": {
    "editable": true,
    "slideshow": {
     "slide_type": ""
    },
    "tags": []
   },
   "outputs": [],
   "source": [
    "plot(fit, which=4)"
   ]
  },
  {
   "cell_type": "markdown",
   "id": "d25b09d9-02a1-4ba9-a8b2-dc70913f8b5a",
   "metadata": {
    "editable": true,
    "slideshow": {
     "slide_type": ""
    },
    "tags": []
   },
   "source": [
    "## Some options for dealing with a \"troubling\" observation"
   ]
  },
  {
   "cell_type": "markdown",
   "id": "214957ce-f17f-4a73-8ae6-aa175bf5e226",
   "metadata": {
    "editable": true,
    "slideshow": {
     "slide_type": ""
    },
    "tags": []
   },
   "source": [
    "- Make sure there wasn't an __error__ with recording data"
   ]
  },
  {
   "cell_type": "markdown",
   "id": "41a045a7-c044-4438-b6ce-281a381b85fd",
   "metadata": {
    "editable": true,
    "slideshow": {
     "slide_type": ""
    },
    "tags": []
   },
   "source": [
    "- Investigate whether a __different model__ would be a better fit\n",
    "    - For example: other predictors, transformations of predictors, other distribution assumptions"
   ]
  },
  {
   "cell_type": "markdown",
   "id": "c5b5a708-af71-4db3-8d75-9242db64af11",
   "metadata": {
    "editable": true,
    "slideshow": {
     "slide_type": ""
    },
    "tags": []
   },
   "source": [
    "    \n",
    "- Fit the model with and without the point in question and __report both results__    "
   ]
  },
  {
   "cell_type": "markdown",
   "id": "e25cfadf-ebe4-429d-a96a-6e2d21bc0f30",
   "metadata": {
    "editable": true,
    "slideshow": {
     "slide_type": ""
    },
    "tags": []
   },
   "source": [
    "❗️ It is __NOT OKAY__ to just remove a data point and never mention it!"
   ]
  },
  {
   "cell_type": "markdown",
   "id": "4acfe0e3-7c1d-4910-86a7-82df1b48fbe6",
   "metadata": {
    "editable": true,
    "slideshow": {
     "slide_type": ""
    },
    "tags": []
   },
   "source": [
    "## Example 3"
   ]
  },
  {
   "cell_type": "markdown",
   "id": "80c19b79-1b93-45c3-8f30-97fb893673ca",
   "metadata": {
    "editable": true,
    "slideshow": {
     "slide_type": ""
    },
    "tags": []
   },
   "source": [
    "We saw that Palm Beach County (50) has the highest Cook's distance."
   ]
  },
  {
   "cell_type": "markdown",
   "id": "c2864b50-cb3b-4a5a-8e2b-df8ac8ebb934",
   "metadata": {
    "editable": true,
    "slideshow": {
     "slide_type": ""
    },
    "tags": []
   },
   "source": [
    "- In R, we can remove observations 7 and 42 from data frame `MyDataFrame` like this:\n",
    "\n",
    "    ```r\n",
    "    MyDataFrame[-c(7, 42), ]    # Don't forget the comma!\n",
    "    ```"
   ]
  },
  {
   "cell_type": "markdown",
   "id": "ff50fb1c-767a-486e-abf0-15b303e5bafe",
   "metadata": {
    "editable": true,
    "slideshow": {
     "slide_type": ""
    },
    "tags": []
   },
   "source": [
    "- Let's create a new data frame `PalmBeach2` that removes the Palm Beach County observation from `PalmBeach`:"
   ]
  },
  {
   "cell_type": "code",
   "execution_count": null,
   "id": "df10df4a-7166-4fb5-8bed-e284e24b0652",
   "metadata": {
    "editable": true,
    "slideshow": {
     "slide_type": ""
    },
    "tags": []
   },
   "outputs": [],
   "source": [
    "PalmBeach2 <- PalmBeach[-c(50),]"
   ]
  },
  {
   "cell_type": "markdown",
   "id": "d79df93a-72fe-4fc6-9a15-9da8364d87d8",
   "metadata": {
    "editable": true,
    "slideshow": {
     "slide_type": ""
    },
    "tags": []
   },
   "source": [
    "- Now re-fit the model without the Palm Beach County observation:"
   ]
  },
  {
   "cell_type": "code",
   "execution_count": null,
   "id": "b7ba878a-2857-4c4d-8a6b-cfcf9d300181",
   "metadata": {
    "editable": true,
    "slideshow": {
     "slide_type": ""
    },
    "tags": []
   },
   "outputs": [],
   "source": []
  },
  {
   "cell_type": "markdown",
   "id": "6971880b-04bb-4900-8333-48c5a68d2d4b",
   "metadata": {
    "editable": true,
    "slideshow": {
     "slide_type": ""
    },
    "tags": []
   },
   "source": [
    "- Let's visualize the two different fitted models\n",
    "\n",
    "- First, let's make a scatterplot of `Bush` vs `Buchanan` using all the data\n",
    "\n",
    "- Then, we can overlay both the original fitted line and the new fitted line without Palm Beach\n",
    "    - _Tip._ `abline(fit2, col=\"blue\")` draws the fitted line in blue."
   ]
  },
  {
   "cell_type": "code",
   "execution_count": null,
   "id": "f696ab9b-55fb-4015-b2a5-60a747746416",
   "metadata": {
    "editable": true,
    "slideshow": {
     "slide_type": ""
    },
    "tags": []
   },
   "outputs": [],
   "source": []
  },
  {
   "cell_type": "markdown",
   "id": "3ad1530c-aee8-447a-be25-a2e95bc328d6",
   "metadata": {
    "editable": true,
    "slideshow": {
     "slide_type": ""
    },
    "tags": []
   },
   "source": [
    "- Finally, let's look at the summary output for both models and write the fitted model equations with and without Palm Beach County"
   ]
  },
  {
   "cell_type": "code",
   "execution_count": null,
   "id": "e8d69d97-cced-4d55-ba05-9285b9949ce8",
   "metadata": {
    "editable": true,
    "slideshow": {
     "slide_type": ""
    },
    "tags": []
   },
   "outputs": [],
   "source": []
  },
  {
   "cell_type": "markdown",
   "id": "aa288b5e-ef2f-430d-afdf-e52783d6fd57",
   "metadata": {
    "editable": true,
    "slideshow": {
     "slide_type": ""
    },
    "tags": []
   },
   "source": [
    "*Write your answer here. Double-click to edit.*\n",
    "\n",
    "- The fitted model with Palm Beach:\n",
    "\n",
    "- The fitted model without Palm Beach:"
   ]
  }
 ],
 "metadata": {
  "kernelspec": {
   "display_name": "R",
   "language": "R",
   "name": "ir"
  },
  "language_info": {
   "codemirror_mode": "r",
   "file_extension": ".r",
   "mimetype": "text/x-r-source",
   "name": "R",
   "pygments_lexer": "r",
   "version": "4.3.2"
  }
 },
 "nbformat": 4,
 "nbformat_minor": 5
}
